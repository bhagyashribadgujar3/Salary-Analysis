{
 "cells": [
  {
   "cell_type": "markdown",
   "metadata": {},
   "source": [
    "# Salary Insights Data Analysis"
   ]
  },
  {
   "cell_type": "markdown",
   "metadata": {},
   "source": [
    "### The goal of this analysis was to find interesting insights from a really raw database. I worked from scratch of finding the database through research, processed and cleaned it and then worked around ways and techniques to analyze it.  "
   ]
  },
  {
   "cell_type": "markdown",
   "metadata": {},
   "source": [
    "### I hope you enjoy it  !!!"
   ]
  },
  {
   "cell_type": "code",
   "execution_count": 8,
   "metadata": {},
   "outputs": [],
   "source": [
    "import pandas as pd\n",
    "import matplotlib.pyplot as plt\n",
    "import numpy as np\n",
    "import re"
   ]
  },
  {
   "cell_type": "code",
   "execution_count": 9,
   "metadata": {},
   "outputs": [],
   "source": [
    "data = pd.read_csv('MSIS_salaries.csv',header = 'infer',)\n",
    "#world=pd.read_csv('worldcities.xlsx', header='infer')\n",
    "#xl = pd.ExcelFile('worldcities.xlsx')\n",
    "#world = xl.parse('Sheet1')\n",
    "uscities = pd.read_csv('uscities.csv',header = 'infer',)\n",
    "data1=data.copy()\n"
   ]
  },
  {
   "cell_type": "markdown",
   "metadata": {},
   "source": [
    "### Rename Columns"
   ]
  },
  {
   "cell_type": "code",
   "execution_count": 10,
   "metadata": {},
   "outputs": [],
   "source": [
    "data.rename(columns={'How old are you?':'age','What industry do you work in?':'industry',\\\n",
    "                     'Where are you located? (City/state/country)':'location',\\\n",
    "                     'Job title':'job_title',\\\n",
    "'How many years of post-college professional work experience do you have?':'post_college experience'},inplace=True)\n"
   ]
  },
  {
   "cell_type": "markdown",
   "metadata": {},
   "source": [
    "### Data Cleaning Job Title column"
   ]
  },
  {
   "cell_type": "code",
   "execution_count": 11,
   "metadata": {},
   "outputs": [],
   "source": [
    "data['job_title'] = data['job_title'].str.replace(r'\\([^()]*\\)',\"\")\n",
    "data['job_title']=data['job_title'].str.replace('\\d+', '')\n",
    "data['job_title']=data['job_title'].str.replace('[./\\\"&-+,$£~-]', '')\n",
    "data['job_title']=data['job_title'].str.strip()\n",
    "data.dropna(subset=['job_title'],how='all',inplace=True)\n",
    "data['job_title']=data['job_title'].str.replace('it ','information technology ')\n",
    "data['job_title']=data['job_title'].str.replace(' it','information technology')\n",
    "data['job_title']=data['job_title'].str.replace('it','information technology')\n",
    "data['job_title']=data['job_title'].str.replace('qa ','quality ')\n",
    "data['job_title']=data['job_title'].str.replace(' qa',' quality')\n",
    "data['job_title']=data['job_title'].str.replace('qa','quality')\n",
    "data['job_title']=data['job_title'].str.replace('ux ','user experience ')\n",
    "data['job_title']=data['job_title'].str.replace(' ux',' user experience')\n",
    "data['job_title']=data['job_title'].str.replace('ux','user experience')\n",
    "data['job_title']=data['job_title'].str.replace('ux ','user experience ')\n",
    "data['job_title']=data['job_title'].str.replace(' ux',' user experience')\n",
    "data['job_title']=data['job_title'].str.replace('ux','user experience')\n",
    "data['job_title']=data['job_title'].str.replace('pr ','public relations ')\n",
    "data['job_title']=data['job_title'].str.replace(' pr',' public relations')\n",
    "data['job_title']=data['job_title'].str.replace('rd ','research development ')\n",
    "data['job_title']=data['job_title'].str.replace(' rd',' research development')\n",
    "data['job_title']=data['job_title'].str.replace('iii','')\n",
    "data['job_title']=data['job_title'].str.replace('sr ','senior ')\n",
    "data['job_title']=data['job_title'].str.replace(' sr',' senior')\n",
    "data['job_title']=data['job_title'].str.replace('hr ','human resource ')\n",
    "data['job_title']=data['job_title'].str.replace(' hr',' human resource')\n",
    "data['job_title']=data['job_title'].str.replace('hr','human resource')\n",
    "data['job_title']=data['job_title'].str.replace('vp ','vice president ')\n",
    "data['job_title']=data['job_title'].str.replace(' vp',' vice president')\n",
    "data['job_title']=data['job_title'].str.replace('vp','vice president')\n",
    "\n",
    "\n",
    "\n",
    "def jobs_title_change(title):\n",
    "    title = str(title)\n",
    "    if ('manager' in title):\n",
    "        return 'manager'\n",
    "    if ('director' in title): \n",
    "        return 'director'\n",
    "    if('research' in title):\n",
    "        return 'researcher'\n",
    "    if ('admin' in title) or ('associate director' in title):\n",
    "        return 'administrative tasks'\n",
    "    if ('analyst' in title):\n",
    "        return 'analyst'\n",
    "    if ('engineering' in title) or ('software' in title) or ('technical' in title) or ('information' in title)\\\n",
    "    or ('technology' in title) or ('systems' in title):\n",
    "        return 'engineer'\n",
    "    if ('social' in title):\n",
    "        return 'social worker'\n",
    "    if ('social' in title):\n",
    "        return 'social worker'\n",
    "    if ('consultant' in title):\n",
    "        return 'consultant'\n",
    "    return title\n",
    "data['job_title'] = data['job_title'].apply(lambda x : jobs_title_change(x))\n"
   ]
  },
  {
   "cell_type": "markdown",
   "metadata": {},
   "source": [
    "### Cleaning Salary"
   ]
  },
  {
   "cell_type": "code",
   "execution_count": 12,
   "metadata": {},
   "outputs": [
    {
     "data": {
      "text/html": [
       "<div>\n",
       "<style scoped>\n",
       "    .dataframe tbody tr th:only-of-type {\n",
       "        vertical-align: middle;\n",
       "    }\n",
       "\n",
       "    .dataframe tbody tr th {\n",
       "        vertical-align: top;\n",
       "    }\n",
       "\n",
       "    .dataframe thead th {\n",
       "        text-align: right;\n",
       "    }\n",
       "</style>\n",
       "<table border=\"1\" class=\"dataframe\">\n",
       "  <thead>\n",
       "    <tr style=\"text-align: right;\">\n",
       "      <th></th>\n",
       "      <th>Timestamp</th>\n",
       "      <th>age</th>\n",
       "      <th>industry</th>\n",
       "      <th>job_title</th>\n",
       "      <th>salary</th>\n",
       "      <th>currency_type</th>\n",
       "      <th>location</th>\n",
       "      <th>post_college experience</th>\n",
       "      <th>annual_salary</th>\n",
       "      <th>currency_conversion</th>\n",
       "    </tr>\n",
       "  </thead>\n",
       "  <tbody>\n",
       "    <tr>\n",
       "      <th>0</th>\n",
       "      <td>4/24/2019 11:43:21</td>\n",
       "      <td>35-44</td>\n",
       "      <td>Government</td>\n",
       "      <td>Talent Management Asst Director</td>\n",
       "      <td>75000</td>\n",
       "      <td>USD</td>\n",
       "      <td>Nashville, TN</td>\n",
       "      <td>11 - 20 years</td>\n",
       "      <td>75000.0</td>\n",
       "      <td>1.00</td>\n",
       "    </tr>\n",
       "    <tr>\n",
       "      <th>1</th>\n",
       "      <td>4/24/2019 11:43:26</td>\n",
       "      <td>25-34</td>\n",
       "      <td>Environmental nonprofit</td>\n",
       "      <td>Operations Director</td>\n",
       "      <td>65,000</td>\n",
       "      <td>USD</td>\n",
       "      <td>Madison, Wi</td>\n",
       "      <td>8 - 10 years</td>\n",
       "      <td>65000.0</td>\n",
       "      <td>1.00</td>\n",
       "    </tr>\n",
       "    <tr>\n",
       "      <th>2</th>\n",
       "      <td>4/24/2019 11:43:27</td>\n",
       "      <td>18-24</td>\n",
       "      <td>Market Research</td>\n",
       "      <td>Market Research Assistant</td>\n",
       "      <td>36,330</td>\n",
       "      <td>USD</td>\n",
       "      <td>Las Vegas, NV</td>\n",
       "      <td>2 - 4 years</td>\n",
       "      <td>36330.0</td>\n",
       "      <td>1.00</td>\n",
       "    </tr>\n",
       "    <tr>\n",
       "      <th>3</th>\n",
       "      <td>4/24/2019 11:43:27</td>\n",
       "      <td>25-34</td>\n",
       "      <td>Biotechnology</td>\n",
       "      <td>Senior Scientist</td>\n",
       "      <td>34600</td>\n",
       "      <td>GBP</td>\n",
       "      <td>Cardiff, UK</td>\n",
       "      <td>5-7 years</td>\n",
       "      <td>43596.0</td>\n",
       "      <td>1.26</td>\n",
       "    </tr>\n",
       "    <tr>\n",
       "      <th>4</th>\n",
       "      <td>4/24/2019 11:43:29</td>\n",
       "      <td>25-34</td>\n",
       "      <td>Healthcare</td>\n",
       "      <td>Social worker</td>\n",
       "      <td>55000</td>\n",
       "      <td>USD</td>\n",
       "      <td>Southeast Michigan, USA</td>\n",
       "      <td>5-7 years</td>\n",
       "      <td>55000.0</td>\n",
       "      <td>1.00</td>\n",
       "    </tr>\n",
       "  </tbody>\n",
       "</table>\n",
       "</div>"
      ],
      "text/plain": [
       "            Timestamp    age                 industry  \\\n",
       "0  4/24/2019 11:43:21  35-44               Government   \n",
       "1  4/24/2019 11:43:26  25-34  Environmental nonprofit   \n",
       "2  4/24/2019 11:43:27  18-24          Market Research   \n",
       "3  4/24/2019 11:43:27  25-34            Biotechnology   \n",
       "4  4/24/2019 11:43:29  25-34               Healthcare   \n",
       "\n",
       "                         job_title  salary currency_type  \\\n",
       "0  Talent Management Asst Director   75000           USD   \n",
       "1              Operations Director  65,000           USD   \n",
       "2        Market Research Assistant  36,330           USD   \n",
       "3                 Senior Scientist   34600           GBP   \n",
       "4                    Social worker   55000           USD   \n",
       "\n",
       "                  location post_college experience  annual_salary  \\\n",
       "0            Nashville, TN           11 - 20 years        75000.0   \n",
       "1              Madison, Wi            8 - 10 years        65000.0   \n",
       "2            Las Vegas, NV             2 - 4 years        36330.0   \n",
       "3              Cardiff, UK               5-7 years        43596.0   \n",
       "4  Southeast Michigan, USA               5-7 years        55000.0   \n",
       "\n",
       "   currency_conversion  \n",
       "0                 1.00  \n",
       "1                 1.00  \n",
       "2                 1.00  \n",
       "3                 1.26  \n",
       "4                 1.00  "
      ]
     },
     "execution_count": 12,
     "metadata": {},
     "output_type": "execute_result"
    }
   ],
   "source": [
    "data = (data.rename(columns = {'What is your annual salary?' :'salary','Please indicate the currency' : 'currency_type'}).\\\n",
    "        assign(annual_salary = lambda x:x.salary.apply(lambda y: str(y).\\\n",
    "                     lower().replace(\",\",\"\"). replace(\"$\",\"\").replace(\"k\",\"000 \").replace(\"million\",\"000000\").\\\n",
    "                                                               replace(\" \",\"\"))))\n",
    "data['annual_salary'] = data['annual_salary'].str.extractall('(\\d+)')[0].unstack().astype(float).max(1)\n",
    "data['annual_salary'] = np.where(data.salary.str.contains('month'),data.annual_salary*12,data.annual_salary)\n",
    "\n",
    "currency_list= data[\"currency_type\"].unique().tolist()\n",
    "currency_conversion = [1.00,1.26,0.75,1.12,0.11,1.00,0.69,0.092,1.00,0.13,0.067,1.00]\n",
    "\n",
    "currency_conversion_dict = dict(zip(currency_list,currency_conversion))\n",
    "\n",
    "data['currency_conversion']=data[\"currency_type\"].map(currency_conversion_dict)\n",
    "data['annual_salary'] = data[\"annual_salary\"]*data['currency_conversion']\n",
    "\n",
    "#data.to_csv('annual_salary_imputed.csv')\n",
    "\n",
    "data.dropna(subset=['annual_salary'],how='all',inplace=True)\n",
    "\n",
    "data.head()"
   ]
  },
  {
   "cell_type": "markdown",
   "metadata": {},
   "source": [
    "### Data Cleaning of Location Column"
   ]
  },
  {
   "cell_type": "code",
   "execution_count": 13,
   "metadata": {},
   "outputs": [],
   "source": [
    "data['location']=data['location'].str.lower()\n",
    "data['location'] = data['location'].str.replace('.','')\n",
    "data['location'] = data['location'].str.replace('/',', ')\n",
    "data['location'] = data['location'].str.replace(' ','')\n",
    "data['location'].str.split(',', expand=False)\n",
    "\n",
    "\n",
    "\n",
    "p = set(uscities['state_id'].str.lower()) \n",
    "q = set(uscities['state_name'].str.lower())\n",
    "\n",
    "states = p.union(q)\n",
    "x = uscities['state_id']\n",
    "y = uscities['city']\n",
    "dd = {}\n",
    "for j,i in zip(x,y):\n",
    "    dd[i.lower()] = j.lower()\n",
    "def priortize_states_countries(s):\n",
    "    p = set(s)\n",
    "    for each in p:\n",
    "        if each in states:\n",
    "            return [each]       \n",
    "     # {city--> state code}\n",
    "    for each in p:\n",
    "        if each in dd:\n",
    "            return [dd[each]]\n",
    "    return s\n",
    "\n",
    "data['location'] = data['location'].astype(str)\n",
    "data['location'] = data['location'].apply(lambda x : x.split(\",\"))\n",
    "data['location'] = data['location'].apply(priortize_states_countries)\n",
    "data['location'] = data['location'].apply(lambda x: \" \".join(x))\n",
    "\n",
    "data.location.replace(to_replace=['texas','california','washingtondc','ohio','michigan','oregon','florida',\n",
    "                                'newyorkcity','washington','colorado','illinois','minnesota','nyc',\n",
    "                                'massachusetts','nan','virginia','newyork','maryland','sanfrancisco',\n",
    "                                'losangeles','la','sanfrancisco causa','newyork newyork',\n",
    "                                'washingtondcusa','chicagoilusa','losangeles causa',\n",
    "                                'washingtonstate','losangelesca','newyorknyusa',\n",
    "                                'sydneynswaustralia','sanfranciscobayarea','wisconsin',\n",
    "                                'indiana','arizona','georgia','iowa','pennsylvania','missouri',\n",
    "                                'unitedstates','utah','usa','newyork nyusa',\n",
    "                                'unitedkingdom','newjersey',\n",
    "                                'connecticut','maine','newyork newyork usa','tennessee',\n",
    "                                'newjersey usa','bricknj','southeastmichigan usa','northcarolina usa',\n",
    "                                'louisiana','tennessee','vermont','nebraska',\n",
    "                                  'arkansas','alaska','kansas','montana','northcarolina usa',\n",
    "                                  'delaware','seattlewa','hawaii','newhampshire','portlandoregon',\n",
    "                                  'atlantaga','minneapolism','sandiego causa','philadelphiapa',\n",
    "                                  'portlandor','sandiego','houstontexas','kentucky'],\n",
    "                    value=['tx','ca','dc','il','nd','il','fl','ny','wa','ak','il',\n",
    "                           'mn','ny','ma','ny','il','ny','md','ca','ca','ca','ca','ny','dc',\n",
    "                           'il','ca','wa','ca','ny','australia','ca','wi','in','az','ga','ia','pa',\n",
    "                           'mo','USA(State Not Mentioned)','ut',\n",
    "                           'USA(State Not Mentioned)','ny','UK','nj','ct','me','ny','ne','nj','nj',\n",
    "                           'mi','nc','mo','il','il','ne','tx','al','ks','mt','nc','de','wa','hi','nh','oh','ga','mn',\n",
    "                            'ca','ph','oh','ca','tx','ky'],inplace=True)\n"
   ]
  },
  {
   "cell_type": "code",
   "execution_count": 14,
   "metadata": {},
   "outputs": [
    {
     "data": {
      "text/html": [
       "<div>\n",
       "<style scoped>\n",
       "    .dataframe tbody tr th:only-of-type {\n",
       "        vertical-align: middle;\n",
       "    }\n",
       "\n",
       "    .dataframe tbody tr th {\n",
       "        vertical-align: top;\n",
       "    }\n",
       "\n",
       "    .dataframe thead th {\n",
       "        text-align: right;\n",
       "    }\n",
       "</style>\n",
       "<table border=\"1\" class=\"dataframe\">\n",
       "  <thead>\n",
       "    <tr style=\"text-align: right;\">\n",
       "      <th></th>\n",
       "      <th>Timestamp</th>\n",
       "      <th>age</th>\n",
       "      <th>industry</th>\n",
       "      <th>job_title</th>\n",
       "      <th>salary</th>\n",
       "      <th>currency_type</th>\n",
       "      <th>location</th>\n",
       "      <th>post_college experience</th>\n",
       "      <th>annual_salary</th>\n",
       "      <th>currency_conversion</th>\n",
       "    </tr>\n",
       "  </thead>\n",
       "  <tbody>\n",
       "    <tr>\n",
       "      <th>0</th>\n",
       "      <td>4/24/2019 11:43:21</td>\n",
       "      <td>35-44</td>\n",
       "      <td>Government</td>\n",
       "      <td>Talent Management Asst Director</td>\n",
       "      <td>75000</td>\n",
       "      <td>USD</td>\n",
       "      <td>tn</td>\n",
       "      <td>11 - 20 years</td>\n",
       "      <td>75000.0</td>\n",
       "      <td>1.00</td>\n",
       "    </tr>\n",
       "    <tr>\n",
       "      <th>1</th>\n",
       "      <td>4/24/2019 11:43:26</td>\n",
       "      <td>25-34</td>\n",
       "      <td>Environmental nonprofit</td>\n",
       "      <td>Operations Director</td>\n",
       "      <td>65,000</td>\n",
       "      <td>USD</td>\n",
       "      <td>wi</td>\n",
       "      <td>8 - 10 years</td>\n",
       "      <td>65000.0</td>\n",
       "      <td>1.00</td>\n",
       "    </tr>\n",
       "    <tr>\n",
       "      <th>2</th>\n",
       "      <td>4/24/2019 11:43:27</td>\n",
       "      <td>18-24</td>\n",
       "      <td>Market Research</td>\n",
       "      <td>Market Research Assistant</td>\n",
       "      <td>36,330</td>\n",
       "      <td>USD</td>\n",
       "      <td>nv</td>\n",
       "      <td>2 - 4 years</td>\n",
       "      <td>36330.0</td>\n",
       "      <td>1.00</td>\n",
       "    </tr>\n",
       "    <tr>\n",
       "      <th>3</th>\n",
       "      <td>4/24/2019 11:43:27</td>\n",
       "      <td>25-34</td>\n",
       "      <td>Biotechnology</td>\n",
       "      <td>Senior Scientist</td>\n",
       "      <td>34600</td>\n",
       "      <td>GBP</td>\n",
       "      <td>md</td>\n",
       "      <td>5-7 years</td>\n",
       "      <td>43596.0</td>\n",
       "      <td>1.26</td>\n",
       "    </tr>\n",
       "    <tr>\n",
       "      <th>4</th>\n",
       "      <td>4/24/2019 11:43:29</td>\n",
       "      <td>25-34</td>\n",
       "      <td>Healthcare</td>\n",
       "      <td>Social worker</td>\n",
       "      <td>55000</td>\n",
       "      <td>USD</td>\n",
       "      <td>mi</td>\n",
       "      <td>5-7 years</td>\n",
       "      <td>55000.0</td>\n",
       "      <td>1.00</td>\n",
       "    </tr>\n",
       "  </tbody>\n",
       "</table>\n",
       "</div>"
      ],
      "text/plain": [
       "            Timestamp    age                 industry  \\\n",
       "0  4/24/2019 11:43:21  35-44               Government   \n",
       "1  4/24/2019 11:43:26  25-34  Environmental nonprofit   \n",
       "2  4/24/2019 11:43:27  18-24          Market Research   \n",
       "3  4/24/2019 11:43:27  25-34            Biotechnology   \n",
       "4  4/24/2019 11:43:29  25-34               Healthcare   \n",
       "\n",
       "                         job_title  salary currency_type location  \\\n",
       "0  Talent Management Asst Director   75000           USD       tn   \n",
       "1              Operations Director  65,000           USD       wi   \n",
       "2        Market Research Assistant  36,330           USD       nv   \n",
       "3                 Senior Scientist   34600           GBP       md   \n",
       "4                    Social worker   55000           USD       mi   \n",
       "\n",
       "  post_college experience  annual_salary  currency_conversion  \n",
       "0           11 - 20 years        75000.0                 1.00  \n",
       "1            8 - 10 years        65000.0                 1.00  \n",
       "2             2 - 4 years        36330.0                 1.00  \n",
       "3               5-7 years        43596.0                 1.26  \n",
       "4               5-7 years        55000.0                 1.00  "
      ]
     },
     "execution_count": 14,
     "metadata": {},
     "output_type": "execute_result"
    }
   ],
   "source": [
    "data.head()"
   ]
  },
  {
   "cell_type": "markdown",
   "metadata": {},
   "source": [
    "### Clean Industry"
   ]
  },
  {
   "cell_type": "code",
   "execution_count": 15,
   "metadata": {},
   "outputs": [],
   "source": [
    "data['industry'] = data['industry'].str.lower()\n",
    "data['industry']\n",
    "\n",
    "\n",
    "\n",
    "def industry_change(industry):\n",
    "    industry = str(industry)\n",
    "    if ('education' in industry) or ('higher' in industry) or ('academia' in industry)\\\n",
    "    or ('academic' in industry) or ('educational' in industry):\n",
    "        return 'Education industry'\n",
    "    if ('software' in industry) or ('technology' in industry) or ('it' in industry)\\\n",
    "    or ('information' in industry) or ('development' in industry):\n",
    "        return 'Software industry'\n",
    "    \n",
    "    if ('health' in industry) or ('medical' in industry) or ('care' in industry) or ('medicine' in industry)\\\n",
    "    or ('biotech' in industry) or ('pharmaceutical' in industry) or ('biotechnology' in industry) or \\\n",
    "    ('medicine' in industry) or ('pharma' in industry):\n",
    "        return 'Healthcare Industry'\n",
    "    \n",
    "    if ('manufacture' in industry) or ('retail' in industry) or ('consumer' in industry)\\\n",
    "    or ('logistics' in industry) or ('goods' in industry):\n",
    "        return 'Manufacturing Industry'\n",
    "    \n",
    "    if ('finance' in industry) or ('financial' in industry) or ('fintech' in industry):\n",
    "        return 'Financial Industry'\n",
    "    \n",
    "    \n",
    "    if ('legal' in industry) or ('law' in industry):\n",
    "        return 'Legal Industry'\n",
    "    \n",
    "    if ('insurance' in industry):\n",
    "        return 'Insurance Industry'\n",
    "    \n",
    "    if ('consulting' in industry):\n",
    "        return 'Consulting Industry'\n",
    "    \n",
    "    if ('services' in industry) or ('hospitality' in industry) or ('service' in industry)\\\n",
    "    or ('professional' in industry) or ('social' in industry) or ('transportation' in industry)\\\n",
    "    or ('communication' in industry) or ('contracting' in industry) or ('fundraiser' in industry):\n",
    "        return 'Services industry'\n",
    "    \n",
    "    if ('ecommerce' in industry):\n",
    "        return 'Ecommerce Industry'\n",
    "    \n",
    "    if ('marketing' in industry) or ('sales' in industry) or ('market' in industry):\n",
    "        return 'Marketing Industry'\n",
    "    \n",
    "    if ('gas' in industry) or ('oil' in industry):\n",
    "        return 'gas and oil Industry'\n",
    "    \n",
    "    if ('constructing' in industry) or ('real' in industry) or ('estate' in industry)\\\n",
    "    or ('architecture' in industry) or ('civil' in industry):\n",
    "        return 'Marketing Industry'\n",
    "    \n",
    "    if ('media' in industry) or ('advertising' in industry) or ('entertainment' in industry)\\\n",
    "    or ('arts' in industry) or ('journalism' in industry):\n",
    "        return 'Media Industry'\n",
    "    \n",
    "    if ('telecommunications' in industry) or ('engineering' in industry) or ('digital' in industry)\\\n",
    "    or ('devices' in industry) or ('design' in industry)\\\n",
    "    or ('electronics' in industry) or ('semiconductor' in industry) or ('engineering' in 'development'):\n",
    "        return 'Engineering Industry'\n",
    "    if ('research' in industry) or ('development' in industry):\n",
    "        return 'R&D Industry'\n",
    "    if ('management' in industry) or ('human' in industry) or ('resources' in industry)\\\n",
    "    or ('relations' in industry) or ('hr' in industry):\n",
    "        return 'Management Industry'\n",
    "    \n",
    "   \n",
    "    \n",
    "    return industry\n",
    "\n",
    "#worked with srivatsav"
   ]
  },
  {
   "cell_type": "markdown",
   "metadata": {},
   "source": [
    "### Drop NAN in Job Title"
   ]
  },
  {
   "cell_type": "code",
   "execution_count": 16,
   "metadata": {},
   "outputs": [],
   "source": [
    "data.dropna(how='any',subset=['job_title'],inplace=True)"
   ]
  },
  {
   "cell_type": "code",
   "execution_count": 17,
   "metadata": {},
   "outputs": [
    {
     "data": {
      "application/javascript": [
       "IPython.notebook.set_autosave_interval(1000)"
      ]
     },
     "metadata": {},
     "output_type": "display_data"
    },
    {
     "name": "stdout",
     "output_type": "stream",
     "text": [
      "Autosaving every 1 seconds\n"
     ]
    }
   ],
   "source": [
    "% autosave 1"
   ]
  },
  {
   "cell_type": "code",
   "execution_count": 18,
   "metadata": {},
   "outputs": [],
   "source": [
    "#data.describe()\n"
   ]
  },
  {
   "cell_type": "markdown",
   "metadata": {},
   "source": [
    "### 1. Data Description"
   ]
  },
  {
   "cell_type": "code",
   "execution_count": 19,
   "metadata": {},
   "outputs": [
    {
     "data": {
      "text/plain": [
       "(20268, 8)"
      ]
     },
     "execution_count": 19,
     "metadata": {},
     "output_type": "execute_result"
    }
   ],
   "source": [
    "data1.shape\n",
    "\n"
   ]
  },
  {
   "cell_type": "markdown",
   "metadata": {},
   "source": [
    "### 2. Filetered the job titles that have more than 7% of entries."
   ]
  },
  {
   "cell_type": "code",
   "execution_count": 20,
   "metadata": {},
   "outputs": [
    {
     "data": {
      "text/html": [
       "<div>\n",
       "<style scoped>\n",
       "    .dataframe tbody tr th:only-of-type {\n",
       "        vertical-align: middle;\n",
       "    }\n",
       "\n",
       "    .dataframe tbody tr th {\n",
       "        vertical-align: top;\n",
       "    }\n",
       "\n",
       "    .dataframe thead th {\n",
       "        text-align: right;\n",
       "    }\n",
       "</style>\n",
       "<table border=\"1\" class=\"dataframe\">\n",
       "  <thead>\n",
       "    <tr style=\"text-align: right;\">\n",
       "      <th></th>\n",
       "      <th>Job title</th>\n",
       "      <th>percent_value</th>\n",
       "    </tr>\n",
       "  </thead>\n",
       "  <tbody>\n",
       "    <tr>\n",
       "      <th>Director</th>\n",
       "      <td>190</td>\n",
       "      <td>1.055028</td>\n",
       "    </tr>\n",
       "    <tr>\n",
       "      <th>Project Manager</th>\n",
       "      <td>183</td>\n",
       "      <td>1.016159</td>\n",
       "    </tr>\n",
       "    <tr>\n",
       "      <th>Manager</th>\n",
       "      <td>134</td>\n",
       "      <td>0.744072</td>\n",
       "    </tr>\n",
       "  </tbody>\n",
       "</table>\n",
       "</div>"
      ],
      "text/plain": [
       "                 Job title  percent_value\n",
       "Director               190       1.055028\n",
       "Project Manager        183       1.016159\n",
       "Manager                134       0.744072"
      ]
     },
     "execution_count": 20,
     "metadata": {},
     "output_type": "execute_result"
    }
   ],
   "source": [
    "Job_title = pd.DataFrame(data1['Job title'].value_counts())\n",
    "Total_length = len(data1['Job title']) - data1['Job title'].isna().sum()\n",
    "Job_title[\"percent_value\"] = Job_title.apply(lambda x : (x/Total_length) *100)\n",
    "Job_title[Job_title.percent_value>0.7]"
   ]
  },
  {
   "cell_type": "markdown",
   "metadata": {},
   "source": [
    "### 3. Created a histogram of NA counts (by column)."
   ]
  },
  {
   "cell_type": "code",
   "execution_count": 21,
   "metadata": {},
   "outputs": [
    {
     "data": {
      "text/plain": [
       "18004"
      ]
     },
     "execution_count": 21,
     "metadata": {},
     "output_type": "execute_result"
    }
   ],
   "source": [
    "len(data)"
   ]
  },
  {
   "cell_type": "code",
   "execution_count": null,
   "metadata": {},
   "outputs": [
    {
     "data": {
      "text/plain": [
       "Timestamp                                                                      0\n",
       "How old are you?                                                            2258\n",
       "What industry do you work in?                                               2680\n",
       "Job title                                                                   2259\n",
       "What is your annual salary?                                                 2259\n",
       "Please indicate the currency                                                2258\n",
       "Where are you located? (City/state/country)                                 2980\n",
       "How many years of post-college professional work experience do you have?    2258\n",
       "dtype: int64"
      ]
     },
     "execution_count": 22,
     "metadata": {},
     "output_type": "execute_result"
    }
   ],
   "source": [
    "data1.isna().sum()\n"
   ]
  },
  {
   "cell_type": "code",
   "execution_count": null,
   "metadata": {},
   "outputs": [],
   "source": [
    "plt.hist(data1.isna().sum(),bins = 7)"
   ]
  },
  {
   "cell_type": "markdown",
   "metadata": {},
   "source": [
    "Most of the columns has NA's over 2000"
   ]
  },
  {
   "cell_type": "markdown",
   "metadata": {},
   "source": [
    "### 4 Compared the distribution of the highest on average paying job title and the lowest average paying job title. "
   ]
  },
  {
   "cell_type": "code",
   "execution_count": null,
   "metadata": {},
   "outputs": [],
   "source": [
    "data['job_title'] = data['job_title'].str.strip()\n",
    "\n",
    "x= data.groupby('job_title').aggregate(np.count_nonzero)\n",
    "\n",
    "x1 = x[x['industry'] >= 5].index\n",
    "data = data[data['job_title'].isin(x1)]\n",
    "\n",
    "\n"
   ]
  },
  {
   "cell_type": "code",
   "execution_count": null,
   "metadata": {},
   "outputs": [],
   "source": [
    "a=data.groupby('job_title')['annual_salary'].mean().nlargest(1)\n",
    "b=data.groupby('job_title')['annual_salary'].mean().nsmallest(1)\n",
    "print(a)\n",
    "print(b)\n"
   ]
  },
  {
   "cell_type": "code",
   "execution_count": null,
   "metadata": {},
   "outputs": [],
   "source": [
    "data['location'].fillna(\"Not Mentioned\",inplace=True)"
   ]
  },
  {
   "cell_type": "markdown",
   "metadata": {},
   "source": [
    "### 5. Create a column that assigns each row a unique identifier (and id number). Rename columns into [Identifier], [age], [industry], [job_title], [currency], [location], and [post_college experience]."
   ]
  },
  {
   "cell_type": "code",
   "execution_count": null,
   "metadata": {},
   "outputs": [],
   "source": [
    "data['identifier']=data.index.values\n",
    "data.head()\n",
    "\n",
    "data.rename(columns={'identifier':'Identifier','How old are you?':'age','What industry do you work in?':'industry','Job title':'job_title',\\\n",
    "'Please indicate the currency':'currency','Where are you located? (City/state/country)':'location',\\\n",
    "'How many years of post-college professional work experience do you have?':'post_college experience'}, inplace=True)\n",
    "data.head()\n"
   ]
  },
  {
   "cell_type": "markdown",
   "metadata": {},
   "source": [
    "### 6. Use the identifiers that you created from question 4. Find entries that contain annual salaries that are over 60,000 (also can be shown as 60000) and have less or equal to 5 years of professional work experience. Show your findings in one table and show at least 11 rows of that table."
   ]
  },
  {
   "cell_type": "markdown",
   "metadata": {},
   "source": [
    "# drop nas from the what is your annual salary columns"
   ]
  },
  {
   "cell_type": "markdown",
   "metadata": {},
   "source": [
    "### 7. Create a new column that shows true of false on whether their job tiltes are Data Scientist or containing \"Data Scien\". Show how many of them are there in this data set and what location contains the most of them. If two or more locations have the same amount of results, show all of them. Show your findings in one table."
   ]
  },
  {
   "cell_type": "code",
   "execution_count": null,
   "metadata": {},
   "outputs": [],
   "source": [
    "data['data_science_column']=(data.job_title=='data scientist')|(data.job_title.str.contains('data scien'))\n",
    "#data_new.groupby('location3')['location3'].count().nlargest(1)\n",
    "data[data['data_science_column']==True].groupby('location').count().sort_values(by='location',ascending=False).head(1)"
   ]
  },
  {
   "cell_type": "markdown",
   "metadata": {},
   "source": []
  },
  {
   "cell_type": "markdown",
   "metadata": {},
   "source": [
    "### 8. If you are over or equal to 25 years old, what is the probability that you make over or equal to 100k. Use some kind of statistical framework to show how you can achieve that goal by taking advantages of your location, industry and professional experience."
   ]
  },
  {
   "cell_type": "code",
   "execution_count": null,
   "metadata": {},
   "outputs": [],
   "source": [
    "dumDF=pd.get_dummies(data, columns=['age'])\n",
    "dumDF=dumDF[(dumDF['age_25-34']==1)|\\\n",
    "        (dumDF['age_35-44']==1)|\\\n",
    "        (dumDF['age_45-54']==1)|\\\n",
    "        (dumDF['age_55-64']==1)|\\\n",
    "        (dumDF['age_65 or over']==1)]\n",
    "# def event_probability(event_outcomes, sample_space):\n",
    "#     probability = (event_outcomes / sample_space) * 100\n",
    "#     return (probability, 1)\n"
   ]
  },
  {
   "cell_type": "code",
   "execution_count": null,
   "metadata": {},
   "outputs": [],
   "source": []
  },
  {
   "cell_type": "markdown",
   "metadata": {},
   "source": []
  },
  {
   "cell_type": "code",
   "execution_count": null,
   "metadata": {},
   "outputs": [],
   "source": [
    "sns.countplot(x='age', data=data)"
   ]
  },
  {
   "cell_type": "markdown",
   "metadata": {},
   "source": [
    "### 9. Find 3 interesting insights from the data set. Write a brief report on these insights as if you are going to present to the corresponding HR data science team in your company. The report should be written in a Jupyter Notebook using markdown, and should not be excessively long. Show your findings, mention the model or technique used to identify each finding, but do not go into details about your code.\n"
   ]
  },
  {
   "cell_type": "markdown",
   "metadata": {},
   "source": [
    "#### Insight 1:Distribution of salary based on states"
   ]
  },
  {
   "cell_type": "code",
   "execution_count": null,
   "metadata": {},
   "outputs": [],
   "source": [
    "dumDF = pd.get_dummies(data, columns=['location'])"
   ]
  },
  {
   "cell_type": "code",
   "execution_count": null,
   "metadata": {},
   "outputs": [],
   "source": [
    "dumDF=dumDF[dumDF.location_ca==1]"
   ]
  },
  {
   "cell_type": "code",
   "execution_count": null,
   "metadata": {},
   "outputs": [],
   "source": [
    "sns.distplot(dumDF.annual_salary, bins=50)"
   ]
  },
  {
   "cell_type": "code",
   "execution_count": null,
   "metadata": {},
   "outputs": [],
   "source": [
    "dumDF = pd.get_dummies(data, columns=['location'])\n",
    "dumDF=dumDF[dumDF.location_ny==1]"
   ]
  },
  {
   "cell_type": "code",
   "execution_count": null,
   "metadata": {},
   "outputs": [],
   "source": [
    "sns.distplot(dumDF.annual_salary, bins=50)"
   ]
  },
  {
   "cell_type": "code",
   "execution_count": null,
   "metadata": {},
   "outputs": [],
   "source": [
    "dumDF = pd.get_dummies(data, columns=['location'])\n",
    "dumDF=dumDF[dumDF.location_wa==1]"
   ]
  },
  {
   "cell_type": "code",
   "execution_count": null,
   "metadata": {},
   "outputs": [],
   "source": [
    "sns.distplot(dumDF.annual_salary, bins=50)"
   ]
  },
  {
   "cell_type": "markdown",
   "metadata": {},
   "source": [
    "#### Conclusion: Build the office in New York as the salary distribution is more in less salaries"
   ]
  },
  {
   "cell_type": "markdown",
   "metadata": {},
   "source": [
    "### Insight 2"
   ]
  },
  {
   "cell_type": "markdown",
   "metadata": {},
   "source": [
    "#### Industries where the people will tend to get in for higher salaries"
   ]
  },
  {
   "cell_type": "code",
   "execution_count": null,
   "metadata": {},
   "outputs": [],
   "source": [
    "top8industries=data.groupby('industry')['annual_salary'].mean().nlargest(8)\n",
    "top8industries"
   ]
  },
  {
   "cell_type": "code",
   "execution_count": null,
   "metadata": {},
   "outputs": [],
   "source": [
    "type(data.groupby('industry')['annual_salary'].sum().nlargest(8))\n"
   ]
  },
  {
   "cell_type": "code",
   "execution_count": null,
   "metadata": {},
   "outputs": [],
   "source": [
    "top8industries.plot(kind = 'bar')"
   ]
  },
  {
   "cell_type": "markdown",
   "metadata": {},
   "source": [
    "#### Conclusion:People can prefer to work in Property industry as the average pay is more in that industry"
   ]
  },
  {
   "cell_type": "markdown",
   "metadata": {},
   "source": [
    "### Insight 3"
   ]
  },
  {
   "cell_type": "markdown",
   "metadata": {},
   "source": [
    "#### Salary distribution according to the Post College Experience"
   ]
  },
  {
   "cell_type": "code",
   "execution_count": null,
   "metadata": {},
   "outputs": [],
   "source": [
    "sns.factorplot(y='annual_salary', data=data, x='post_college experience',aspect=2)"
   ]
  },
  {
   "cell_type": "markdown",
   "metadata": {},
   "source": [
    "#### Conclusion: It is surprising that your salary doesn't depend on your work experience"
   ]
  },
  {
   "cell_type": "markdown",
   "metadata": {},
   "source": [
    "### 10. Create a regression model to to predict a person's salary."
   ]
  },
  {
   "cell_type": "code",
   "execution_count": null,
   "metadata": {},
   "outputs": [],
   "source": [
    "#CELL1\n",
    "data1=data.copy()\n",
    "data1.head()\n",
    "\n",
    "#Cell2\n",
    "data1['age'] = data1['age'].astype('category')\n",
    "data1['industry'] = data1['industry'].astype('category')\n",
    "data1['job_title'] = data1['job_title'].astype('category')\n",
    "data1['currency_type'] = data1['currency_type'].astype('category')\n",
    "data1['post_college experience'] = data1['post_college experience'].astype('category')\n",
    "data1['location'] = data1['location'].astype('category')\n",
    "\n",
    "\n",
    "print(data1.dtypes)\n",
    "cat_columns = data1.select_dtypes(['category']).columns\n",
    "data1[cat_columns] = data1[cat_columns].apply(lambda x: x.cat.codes)\n",
    " \n",
    "#CELL3\n",
    "import sklearn as sk\n",
    "import sklearn.tree as tree\n",
    "from IPython.display import Image  \n",
    "import pydotplus\n",
    "\n",
    "import matplotlib.pyplot as plt\n",
    "import numpy as np\n",
    "from sklearn import datasets, linear_model\n",
    "from sklearn.metrics import mean_squared_error, r2_score\n",
    "\n",
    "import warnings\n",
    "warnings.filterwarnings('ignore')\n",
    "from sklearn import linear_model\n",
    "regLasso = linear_model.Lasso()\n",
    "\n",
    "#CELL4\n",
    "X =data1[['age', 'industry', 'job_title','post_college experience','location']]\n",
    "Y= data1['annual_salary']\n",
    "\n",
    "# Split the data into training/testing sets\n",
    "X_train = X[:-20]\n",
    "X_test = X[-20:]\n",
    "\n",
    "# Split the targets into training/testing sets\n",
    "y_train = Y[:-20]\n",
    "y_test = Y[-20:]\n",
    "\n",
    "# Create linear regression object\n",
    "regr = linear_model.LinearRegression()\n",
    "\n",
    "# Train the model using the training sets\n",
    "regr.fit(X_train, y_train)\n",
    "\n",
    "# Make predictions using the testing set\n",
    "y_pred = regr.predict(X_test)\n",
    "\n",
    "# The coefficients\n",
    "print('Coefficients: \\n', regr.coef_)\n",
    "# The mean squared error\n",
    "print(\"Mean squared error: %.2f\"\n",
    "      % mean_squared_error(y_test, y_pred))\n",
    "# Explained variance score: 1 is perfect prediction\n",
    "print('Variance score: %.2f' % r2_score(y_test, y_pred))"
   ]
  },
  {
   "cell_type": "markdown",
   "metadata": {},
   "source": [
    "### 11. Create a classification model to to predict a person's job title."
   ]
  },
  {
   "cell_type": "code",
   "execution_count": null,
   "metadata": {},
   "outputs": [],
   "source": [
    "import sklearn as sk\n",
    "from sklearn.tree import DecisionTreeClassifier, export_graphviz\n",
    "from IPython.display import Image  \n",
    "import pydotplus\n",
    "from io import StringIO \n",
    "import matplotlib.pyplot as plt\n",
    "import numpy as np\n",
    "from sklearn import datasets, linear_model\n",
    "from sklearn.metrics import mean_squared_error, r2_score, accuracy_score\n",
    "\n",
    "import warnings\n",
    "warnings.filterwarnings('ignore')\n",
    "\n",
    "data2=data.copy()\n",
    "data2.head()\n",
    "\n",
    "data2['age'] = data2['age'].astype('category')\n",
    "data2['industry'] = data2['industry'].astype('category')\n",
    "data2['job_title'] = data2['job_title'].astype('category')\n",
    "data2['currency_type'] = data2['currency_type'].astype('category')\n",
    "data2['post_college experience'] = data2['post_college experience'].astype('category')\n",
    "data2['location'] = data2['location'].astype('category')\n",
    "#data2['Country'] = data2['Country'].astype('category')\n",
    "\n",
    "#print(data2.dtypes)\n",
    "cat_columns = data2.select_dtypes(['category']).columns\n",
    "data2[cat_columns] = data2[cat_columns].apply(lambda x: x.cat.codes)\n",
    "\n",
    "# data1.drop(['salary','Please indicate the currency'],axis=1,inplace=True)\n",
    "X =data2[['age', 'industry', 'annual_salary','currency_type','post_college experience','location']]\n",
    "Y= data2['job_title']\n",
    "\n",
    "# Split the data into training/testing sets\n",
    "X_train = X[:-20]\n",
    "X_test = X[-20:]\n",
    "\n",
    "# Split the targets into training/testing sets\n",
    "y_train = Y[:-20]\n",
    "y_test = Y[-20:]\n",
    "\n",
    "dtc = DecisionTreeClassifier(criterion = \"entropy\", random_state = 100, max_depth=2, min_samples_leaf=10)\n",
    "dtc = dtc.fit(X_train, y_train)\n",
    "\n",
    "y_pred = dtc.predict(X_test)\n",
    "#print(\"Accuracy is \", accuracy_score(y_test,y_pred)*100)\n",
    "\n",
    "# Visualization of Decision Tree\n",
    "dot_data = StringIO()\n",
    "export_graphviz(dtc, out_file=dot_data, filled=True, rounded=True, special_characters=True)\n",
    "graph = pydotplus.graph_from_dot_data(dot_data.getvalue())  \n",
    "Image(graph.create_png())\n",
    "\n"
   ]
  },
  {
   "cell_type": "code",
   "execution_count": null,
   "metadata": {},
   "outputs": [],
   "source": [
    "import matplotlib.pyplot as plt\n",
    "from sklearn.cluster import KMeans\n",
    "data3 = data.copy()\n",
    "\n",
    "data3['age'] = data3['age'].astype('category')\n",
    "data3['industry'] = data3['industry'].astype('category')\n",
    "data3['job_title'] = data3['job_title'].astype('category')\n",
    "data3['currency_type'] = data3['currency_type'].astype('category')\n",
    "data3['post_college experience'] = data3['post_college experience'].astype('category')\n",
    "data3['location'] = data3['location'].astype('category')\n",
    "data3['location'] = data3['location'].astype('category')\n",
    "data3['annual_salary'] = data3['annual_salary'].astype('category')\n",
    "\n",
    "print(data3.dtypes)\n",
    "cat_columns = data3.select_dtypes(['category']).columns\n",
    "data3[cat_columns] = data3[cat_columns].apply(lambda x: x.cat.codes)\n",
    "data3 = data3.drop(['Timestamp','salary'],axis=1)\n",
    "clt = KMeans(n_clusters = len(data3.age.unique()))\n",
    "y = clt.fit(data3)\n",
    "x = clt.fit_predict(data3)\n",
    "data3['clusters']=x\n",
    "data3['clusters'].unique() \n",
    "\n"
   ]
  }
 ],
 "metadata": {
  "kernelspec": {
   "display_name": "Python 3",
   "language": "python",
   "name": "python3"
  },
  "language_info": {
   "codemirror_mode": {
    "name": "ipython",
    "version": 3
   },
   "file_extension": ".py",
   "mimetype": "text/x-python",
   "name": "python",
   "nbconvert_exporter": "python",
   "pygments_lexer": "ipython3",
   "version": "3.6.4"
  }
 },
 "nbformat": 4,
 "nbformat_minor": 1
}
